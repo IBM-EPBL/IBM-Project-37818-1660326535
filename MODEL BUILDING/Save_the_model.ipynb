{
  "nbformat": 4,
  "nbformat_minor": 0,
  "metadata": {
    "colab": {
      "provenance": []
    },
    "kernelspec": {
      "name": "python3",
      "display_name": "Python 3"
    },
    "language_info": {
      "name": "python"
    }
  },
  "cells": [
    {
      "cell_type": "code",
      "execution_count": 26,
      "metadata": {
        "id": "O7eW-0FJXDYs"
      },
      "outputs": [],
      "source": [
        "import numpy\n",
        "import tensorflow\n",
        "from tensorflow.keras.datasets import mnist\n",
        "from tensorflow.keras.models import Sequential\n",
        "from tensorflow.keras import layers\n",
        "from tensorflow.keras.layers import Dense, Flatten\n",
        "\n",
        "from tensorflow.keras.layers import Conv2D\n",
        "from keras.optimizers import Adam\n",
        "from keras.utils import np_utils"
      ]
    },
    {
      "cell_type": "code",
      "source": [
        "(x_train, y_train), (x_test, y_test) = mnist.load_data()"
      ],
      "metadata": {
        "id": "X7il3BRIXPbY"
      },
      "execution_count": 27,
      "outputs": []
    },
    {
      "cell_type": "code",
      "source": [
        "x_train = x_train.reshape(60000, 28, 28, 1).astype('float32')\n",
        "x_test = x_test.reshape(10000, 28, 28, 1).astype('float32')"
      ],
      "metadata": {
        "id": "vmDlds6wYIlX"
      },
      "execution_count": 28,
      "outputs": []
    },
    {
      "cell_type": "code",
      "source": [
        "number_of_classes = 10\n",
        "y_train = np_utils.to_categorical(y_train, number_of_classes)\n",
        "y_test = np_utils.to_categorical(y_test, number_of_classes)"
      ],
      "metadata": {
        "id": "yoqe28XtYDen"
      },
      "execution_count": 29,
      "outputs": []
    },
    {
      "cell_type": "code",
      "source": [
        "model = Sequential()\n",
        "model.add(Conv2D(64, (3, 3), input_shape = (28, 28, 1), activation = 'relu'))\n",
        "model.add(Conv2D(32, (3, 3),activation = 'relu'))\n",
        "model.add(Flatten())\n",
        "model.add(Dense(number_of_classes, activation = 'softmax'))"
      ],
      "metadata": {
        "id": "TAbrqsVwXlry"
      },
      "execution_count": 30,
      "outputs": []
    },
    {
      "cell_type": "code",
      "source": [
        "model.compile(loss = 'categorical_crossentropy', optimizer = \"Adam\", metrics = ['accuracy'])"
      ],
      "metadata": {
        "id": "rYk199IPYaQs"
      },
      "execution_count": 36,
      "outputs": []
    },
    {
      "cell_type": "code",
      "source": [
        "model.fit(x_train, y_train, validation_data = (x_test, y_test), epochs = 5, batch_size = 32)"
      ],
      "metadata": {
        "colab": {
          "base_uri": "https://localhost:8080/"
        },
        "id": "8E8w5r46YmLe",
        "outputId": "3250f06a-ddfe-4f09-fc54-fcbaa83bdbfd"
      },
      "execution_count": 37,
      "outputs": [
        {
          "output_type": "stream",
          "name": "stdout",
          "text": [
            "Epoch 1/5\n",
            "1875/1875 [==============================] - 194s 103ms/step - loss: 0.2378 - accuracy: 0.9509 - val_loss: 0.0852 - val_accuracy: 0.9729\n",
            "Epoch 2/5\n",
            "1875/1875 [==============================] - 193s 103ms/step - loss: 0.0682 - accuracy: 0.9793 - val_loss: 0.0981 - val_accuracy: 0.9732\n",
            "Epoch 3/5\n",
            "1875/1875 [==============================] - 196s 104ms/step - loss: 0.0478 - accuracy: 0.9845 - val_loss: 0.1003 - val_accuracy: 0.9752\n",
            "Epoch 4/5\n",
            "1875/1875 [==============================] - 193s 103ms/step - loss: 0.0366 - accuracy: 0.9881 - val_loss: 0.0995 - val_accuracy: 0.9761\n",
            "Epoch 5/5\n",
            "1875/1875 [==============================] - 191s 102ms/step - loss: 0.0271 - accuracy: 0.9917 - val_loss: 0.1162 - val_accuracy: 0.9761\n"
          ]
        },
        {
          "output_type": "execute_result",
          "data": {
            "text/plain": [
              "<keras.callbacks.History at 0x7f600c96b610>"
            ]
          },
          "metadata": {},
          "execution_count": 37
        }
      ]
    },
    {
      "cell_type": "code",
      "source": [
        "metrics = model.evaluate(x_test, y_test, verbose = 0)\n",
        "print(\"Metrics(Test loss & Test Accuracy):\")\n",
        "print(metrics)"
      ],
      "metadata": {
        "colab": {
          "base_uri": "https://localhost:8080/"
        },
        "id": "v2YHbtFQgw7D",
        "outputId": "c7523731-2141-4529-89fe-95c0544e8172"
      },
      "execution_count": 38,
      "outputs": [
        {
          "output_type": "stream",
          "name": "stdout",
          "text": [
            "Metrics(Test loss & Test Accuracy):\n",
            "[0.11623921245336533, 0.9761000275611877]\n"
          ]
        }
      ]
    },
    {
      "cell_type": "code",
      "source": [
        "prediction = model.predict(x_test[:4])\n",
        "print(prediction)"
      ],
      "metadata": {
        "colab": {
          "base_uri": "https://localhost:8080/"
        },
        "id": "rUr21Ey-hrGg",
        "outputId": "58ce9069-f2ca-4a9c-8c38-d904570a48fe"
      },
      "execution_count": 39,
      "outputs": [
        {
          "output_type": "stream",
          "name": "stdout",
          "text": [
            "1/1 [==============================] - 0s 97ms/step\n",
            "[[1.2437441e-10 6.3942137e-19 5.5431929e-07 1.6169508e-08 2.1894654e-13\n",
            "  2.3941803e-14 2.8406087e-20 9.9999928e-01 4.7412825e-12 8.0360500e-08]\n",
            " [6.6959659e-13 2.0964447e-07 9.9999976e-01 1.0089480e-09 3.8388599e-17\n",
            "  2.1256348e-14 2.0385054e-08 1.1833877e-21 2.1424102e-09 7.4830155e-19]\n",
            " [2.9385890e-07 9.9972326e-01 5.5384539e-06 9.4967179e-14 2.6868528e-04\n",
            "  2.2555859e-07 4.3053661e-10 1.2761404e-09 2.0751997e-06 1.6646802e-09]\n",
            " [9.9999595e-01 3.6993414e-15 2.1205717e-06 8.6421443e-14 1.9172881e-10\n",
            "  7.5451749e-11 5.5626094e-07 1.5134912e-11 9.4758895e-11 1.3759874e-06]]\n"
          ]
        }
      ]
    },
    {
      "cell_type": "code",
      "source": [
        "import numpy as np\n",
        "print(np.argmax(prediction, axis=1))\n",
        "print(y_test[:4])"
      ],
      "metadata": {
        "colab": {
          "base_uri": "https://localhost:8080/"
        },
        "id": "lQVYilHoibV-",
        "outputId": "698f7f52-11fe-4bb7-800c-51f456e54ab9"
      },
      "execution_count": 40,
      "outputs": [
        {
          "output_type": "stream",
          "name": "stdout",
          "text": [
            "[7 2 1 0]\n",
            "[[0. 0. 0. 0. 0. 0. 0. 1. 0. 0.]\n",
            " [0. 0. 1. 0. 0. 0. 0. 0. 0. 0.]\n",
            " [0. 1. 0. 0. 0. 0. 0. 0. 0. 0.]\n",
            " [1. 0. 0. 0. 0. 0. 0. 0. 0. 0.]]\n"
          ]
        }
      ]
    },
    {
      "cell_type": "code",
      "source": [
        "model.save('models/mnistCNN.h5')"
      ],
      "metadata": {
        "id": "huNdmPFCjGLF"
      },
      "execution_count": 41,
      "outputs": []
    }
  ]
}