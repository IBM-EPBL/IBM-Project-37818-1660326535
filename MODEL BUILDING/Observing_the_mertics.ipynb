{
  "nbformat": 4,
  "nbformat_minor": 0,
  "metadata": {
    "colab": {
      "provenance": []
    },
    "kernelspec": {
      "name": "python3",
      "display_name": "Python 3"
    },
    "language_info": {
      "name": "python"
    }
  },
  "cells": [
    {
      "cell_type": "code",
      "execution_count": 26,
      "metadata": {
        "id": "O7eW-0FJXDYs"
      },
      "outputs": [],
      "source": [
        "import numpy\n",
        "import tensorflow\n",
        "from tensorflow.keras.datasets import mnist\n",
        "from tensorflow.keras.models import Sequential\n",
        "from tensorflow.keras import layers\n",
        "from tensorflow.keras.layers import Dense, Flatten\n",
        "\n",
        "from tensorflow.keras.layers import Conv2D\n",
        "from keras.optimizers import Adam\n",
        "from keras.utils import np_utils"
      ]
    },
    {
      "cell_type": "code",
      "source": [
        "(x_train, y_train), (x_test, y_test) = mnist.load_data()"
      ],
      "metadata": {
        "id": "X7il3BRIXPbY"
      },
      "execution_count": 27,
      "outputs": []
    },
    {
      "cell_type": "code",
      "source": [
        "x_train = x_train.reshape(60000, 28, 28, 1).astype('float32')\n",
        "x_test = x_test.reshape(10000, 28, 28, 1).astype('float32')"
      ],
      "metadata": {
        "id": "vmDlds6wYIlX"
      },
      "execution_count": 28,
      "outputs": []
    },
    {
      "cell_type": "code",
      "source": [
        "number_of_classes = 10\n",
        "y_train = np_utils.to_categorical(y_train, number_of_classes)\n",
        "y_test = np_utils.to_categorical(y_test, number_of_classes)"
      ],
      "metadata": {
        "id": "yoqe28XtYDen"
      },
      "execution_count": 29,
      "outputs": []
    },
    {
      "cell_type": "code",
      "source": [
        "model = Sequential()\n",
        "model.add(Conv2D(64, (3, 3), input_shape = (28, 28, 1), activation = 'relu'))\n",
        "model.add(Conv2D(32, (3, 3),activation = 'relu'))\n",
        "model.add(Flatten())\n",
        "model.add(Dense(number_of_classes, activation = 'softmax'))"
      ],
      "metadata": {
        "id": "TAbrqsVwXlry"
      },
      "execution_count": 30,
      "outputs": []
    },
    {
      "cell_type": "code",
      "source": [
        "model.compile(loss = 'categorical_crossentropy', optimizer = \"Adam\", metrics = ['accuracy'])"
      ],
      "metadata": {
        "id": "rYk199IPYaQs"
      },
      "execution_count": 36,
      "outputs": []
    },
    {
      "cell_type": "code",
      "source": [
        "model.fit(x_train, y_train, validation_data = (x_test, y_test), epochs = 5, batch_size = 32)"
      ],
      "metadata": {
        "colab": {
          "base_uri": "https://localhost:8080/"
        },
        "id": "8E8w5r46YmLe",
        "outputId": "3250f06a-ddfe-4f09-fc54-fcbaa83bdbfd"
      },
      "execution_count": 37,
      "outputs": [
        {
          "output_type": "stream",
          "name": "stdout",
          "text": [
            "Epoch 1/5\n",
            "1875/1875 [==============================] - 194s 103ms/step - loss: 0.2378 - accuracy: 0.9509 - val_loss: 0.0852 - val_accuracy: 0.9729\n",
            "Epoch 2/5\n",
            "1875/1875 [==============================] - 193s 103ms/step - loss: 0.0682 - accuracy: 0.9793 - val_loss: 0.0981 - val_accuracy: 0.9732\n",
            "Epoch 3/5\n",
            "1875/1875 [==============================] - 196s 104ms/step - loss: 0.0478 - accuracy: 0.9845 - val_loss: 0.1003 - val_accuracy: 0.9752\n",
            "Epoch 4/5\n",
            "1875/1875 [==============================] - 193s 103ms/step - loss: 0.0366 - accuracy: 0.9881 - val_loss: 0.0995 - val_accuracy: 0.9761\n",
            "Epoch 5/5\n",
            "1875/1875 [==============================] - 191s 102ms/step - loss: 0.0271 - accuracy: 0.9917 - val_loss: 0.1162 - val_accuracy: 0.9761\n"
          ]
        },
        {
          "output_type": "execute_result",
          "data": {
            "text/plain": [
              "<keras.callbacks.History at 0x7f600c96b610>"
            ]
          },
          "metadata": {},
          "execution_count": 37
        }
      ]
    },
    {
      "cell_type": "code",
      "source": [
        "metrics = model.evaluate(x_test, y_test, verbose = 0)\n",
        "print(\"Metrics(Test loss & Test Accuracy):\")\n",
        "print(metrics)"
      ],
      "metadata": {
        "colab": {
          "base_uri": "https://localhost:8080/"
        },
        "id": "v2YHbtFQgw7D",
        "outputId": "c7523731-2141-4529-89fe-95c0544e8172"
      },
      "execution_count": 38,
      "outputs": [
        {
          "output_type": "stream",
          "name": "stdout",
          "text": [
            "Metrics(Test loss & Test Accuracy):\n",
            "[0.11623921245336533, 0.9761000275611877]\n"
          ]
        }
      ]
    }
  ]
}